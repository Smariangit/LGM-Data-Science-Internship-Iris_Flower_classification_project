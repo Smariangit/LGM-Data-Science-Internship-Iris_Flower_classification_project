{
 "cells": [
  {
   "cell_type": "code",
   "execution_count": null,
   "id": "55b63920",
   "metadata": {},
   "outputs": [],
   "source": [
    "import numpy as np\n",
    "import pandas as pd\n",
    "import matplotlib.pyplot as plt\n",
    "import seaborn as sns\n",
    "import warnings\n",
    "warnings.filterwarnings('ignore')"
   ]
  },
  {
   "cell_type": "code",
   "execution_count": null,
   "id": "b5fb1b86",
   "metadata": {},
   "outputs": [],
   "source": [
    "df = pd.read_csv('https://raw.githubusercontent.com/mwitiderrick/stockprice/master/NSE-TATAGLOBAL.csv')"
   ]
  },
  {
   "cell_type": "code",
   "execution_count": null,
   "id": "eaf325b9",
   "metadata": {},
   "outputs": [],
   "source": [
    "df.head()"
   ]
  },
  {
   "cell_type": "code",
   "execution_count": null,
   "id": "95ed1a09",
   "metadata": {},
   "outputs": [],
   "source": [
    "df.tail()"
   ]
  },
  {
   "cell_type": "code",
   "execution_count": null,
   "id": "335b391b",
   "metadata": {},
   "outputs": [],
   "source": [
    "df.shape"
   ]
  },
  {
   "cell_type": "code",
   "execution_count": null,
   "id": "18e3a5d2",
   "metadata": {},
   "outputs": [],
   "source": [
    "df.describe()"
   ]
  },
  {
   "cell_type": "markdown",
   "id": "f44d0785",
   "metadata": {},
   "source": [
    "# Data cleaning\n"
   ]
  },
  {
   "cell_type": "code",
   "execution_count": null,
   "id": "0f7bba9b",
   "metadata": {},
   "outputs": [],
   "source": [
    "df.info()"
   ]
  },
  {
   "cell_type": "code",
   "execution_count": null,
   "id": "65683aea",
   "metadata": {},
   "outputs": [],
   "source": [
    "df.isnull().sum()"
   ]
  },
  {
   "cell_type": "code",
   "execution_count": null,
   "id": "9b8fdf88",
   "metadata": {},
   "outputs": [],
   "source": [
    "stk=df.copy()"
   ]
  },
  {
   "cell_type": "code",
   "execution_count": null,
   "id": "aa33942a",
   "metadata": {},
   "outputs": [],
   "source": [
    "stk.columns"
   ]
  },
  {
   "cell_type": "code",
   "execution_count": null,
   "id": "1824088d",
   "metadata": {},
   "outputs": [],
   "source": [
    "stk['Date'] = pd.to_datetime(stk['Date'])"
   ]
  },
  {
   "cell_type": "code",
   "execution_count": null,
   "id": "9c10d6f8",
   "metadata": {},
   "outputs": [],
   "source": [
    "stk.info()"
   ]
  },
  {
   "cell_type": "code",
   "execution_count": null,
   "id": "ffa30b76",
   "metadata": {},
   "outputs": [],
   "source": [
    "stk.head()"
   ]
  },
  {
   "cell_type": "code",
   "execution_count": null,
   "id": "1ec700ab",
   "metadata": {},
   "outputs": [],
   "source": [
    "stk['Date'].min()"
   ]
  },
  {
   "cell_type": "code",
   "execution_count": null,
   "id": "36b9bd80",
   "metadata": {},
   "outputs": [],
   "source": [
    "stk['Date'].max()"
   ]
  },
  {
   "cell_type": "code",
   "execution_count": null,
   "id": "97f51643",
   "metadata": {},
   "outputs": [],
   "source": [
    "stk['Month Year'] = stk['Date'].apply(lambda x: x.strftime ('%y-%m'))\n",
    "stk['Year'] = stk['Date'].apply(lambda x: x.strftime ('%y'))\n",
    "stk.head()"
   ]
  },
  {
   "cell_type": "code",
   "execution_count": null,
   "id": "9bd85e3d",
   "metadata": {},
   "outputs": [],
   "source": [
    "a = stk.groupby('Month Year')['Close'].mean()\n",
    "plt.figure(figsize=(25,5))\n",
    "plt.plot(a, color = 'green')\n",
    "plt.xticks(rotation = 'vertical')\n",
    "plt.show()"
   ]
  },
  {
   "cell_type": "code",
   "execution_count": null,
   "id": "0bd232a9",
   "metadata": {},
   "outputs": [],
   "source": [
    "pc = stk[['Year', 'Total Trade Quantity']]\n",
    "grp_pc = pc.groupby('Year')['Total Trade Quantity'].mean().sort_values(ascending = False).reset_index()\n",
    "\n",
    "plt.pie(grp_pc['Total Trade Quantity'], labels=grp_pc['Year'])\n",
    "plt.show()"
   ]
  },
  {
   "cell_type": "code",
   "execution_count": null,
   "id": "6f0469ef",
   "metadata": {},
   "outputs": [],
   "source": [
    "trd = stk[['Year','Turnover (Lacs)']]\n",
    "a = trd.groupby('Year')['Turnover (Lacs)'].mean().sort_values(ascending = False).reset_index()\n",
    "\n",
    "sns.barplot(a['Year'], a['Turnover (Lacs)'])\n",
    "plt.show()"
   ]
  },
  {
   "cell_type": "code",
   "execution_count": null,
   "id": "c2e073f7",
   "metadata": {},
   "outputs": [],
   "source": []
  },
  {
   "cell_type": "markdown",
   "id": "ac80ae4e",
   "metadata": {},
   "source": [
    "# machine learning"
   ]
  },
  {
   "cell_type": "code",
   "execution_count": null,
   "id": "69256f45",
   "metadata": {},
   "outputs": [],
   "source": [
    "plt.figure(figsize = (10,8))\n",
    "sns.heatmap(stk.corr(), annot = True, cmap = 'YlGnBu')\n",
    "plt.show()"
   ]
  },
  {
   "cell_type": "markdown",
   "id": "f1173c87",
   "metadata": {},
   "source": [
    "# linear regression"
   ]
  },
  {
   "cell_type": "code",
   "execution_count": null,
   "id": "370ae4f4",
   "metadata": {},
   "outputs": [],
   "source": [
    "stk.columns"
   ]
  },
  {
   "cell_type": "code",
   "execution_count": null,
   "id": "5fef6189",
   "metadata": {},
   "outputs": [],
   "source": [
    "from sklearn.linear_model import LinearRegression\n",
    "from sklearn.model_selection import train_test_split"
   ]
  },
  {
   "cell_type": "code",
   "execution_count": null,
   "id": "41aeaef6",
   "metadata": {},
   "outputs": [],
   "source": [
    "x = stk[['Close', 'Total Trade Quantity']]\n",
    "y = stk['Turnover (Lacs)']"
   ]
  },
  {
   "cell_type": "code",
   "execution_count": null,
   "id": "6e4fb87c",
   "metadata": {},
   "outputs": [],
   "source": [
    "x.head()"
   ]
  },
  {
   "cell_type": "code",
   "execution_count": null,
   "id": "f885b0e0",
   "metadata": {},
   "outputs": [],
   "source": [
    "y.head()"
   ]
  },
  {
   "cell_type": "code",
   "execution_count": null,
   "id": "fdd369dc",
   "metadata": {},
   "outputs": [],
   "source": [
    "X_train, X_test, y_train, y_test = train_test_split(x,y, test_size = 0.3, random_state = 0)"
   ]
  },
  {
   "cell_type": "code",
   "execution_count": null,
   "id": "adbaa50b",
   "metadata": {},
   "outputs": [],
   "source": [
    "lr=LinearRegression()"
   ]
  },
  {
   "cell_type": "code",
   "execution_count": null,
   "id": "09f241d7",
   "metadata": {},
   "outputs": [],
   "source": [
    "lr.fit(X_train, y_train)"
   ]
  },
  {
   "cell_type": "code",
   "execution_count": null,
   "id": "a7eb72f2",
   "metadata": {},
   "outputs": [],
   "source": [
    "X_train.shape, X_test.shape"
   ]
  },
  {
   "cell_type": "code",
   "execution_count": null,
   "id": "d72bd273",
   "metadata": {},
   "outputs": [],
   "source": [
    "y_train.shape, y_test.shape"
   ]
  },
  {
   "cell_type": "code",
   "execution_count": null,
   "id": "ff463da9",
   "metadata": {},
   "outputs": [],
   "source": [
    "y_train = y_train.values.reshape(-1,1)\n",
    "y_test = y_test.values.reshape(-1,1)"
   ]
  },
  {
   "cell_type": "code",
   "execution_count": null,
   "id": "5126bed4",
   "metadata": {},
   "outputs": [],
   "source": [
    "y_train.shape, y_test.shape"
   ]
  },
  {
   "cell_type": "code",
   "execution_count": null,
   "id": "508cacc3",
   "metadata": {},
   "outputs": [],
   "source": [
    "lr.score(X_test, y_test)"
   ]
  },
  {
   "cell_type": "code",
   "execution_count": null,
   "id": "cb841571",
   "metadata": {},
   "outputs": [],
   "source": [
    "y_train_pred = lr.predict(X_train)\n",
    "y_train_pred"
   ]
  },
  {
   "cell_type": "code",
   "execution_count": null,
   "id": "c4ead180",
   "metadata": {},
   "outputs": [],
   "source": [
    "y_test_pred = lr.predict(X_test)\n",
    "y_test_pred"
   ]
  },
  {
   "cell_type": "code",
   "execution_count": null,
   "id": "6e0cb480",
   "metadata": {},
   "outputs": [],
   "source": [
    "from sklearn.metrics import mean_absolute_error, mean_squared_error, r2_score"
   ]
  },
  {
   "cell_type": "code",
   "execution_count": null,
   "id": "c9226656",
   "metadata": {},
   "outputs": [],
   "source": [
    "print(\"R2Score : \" ,r2_score(y_test, y_test_pred)) \n",
    "print(\"mean_absolute_error : \",mean_absolute_error(y_test, y_test_pred))\n",
    "print(\"mean_squared_error : \" ,mean_squared_error(y_test, y_test_pred)) \n",
    "print(\"Root mean_squared_error : \",np.sqrt(mean_squared_error(y_test, y_test_pred)))"
   ]
  },
  {
   "cell_type": "markdown",
   "id": "146a337a",
   "metadata": {},
   "source": [
    "# random forest"
   ]
  },
  {
   "cell_type": "code",
   "execution_count": null,
   "id": "b9b110c6",
   "metadata": {},
   "outputs": [],
   "source": [
    "from sklearn.preprocessing import StandardScaler\n",
    "sc = StandardScaler()\n",
    "X_train_std = sc.fit_transform(X_train)\n",
    "X_test_std = sc.transform(X_test) "
   ]
  },
  {
   "cell_type": "code",
   "execution_count": null,
   "id": "c3c33d69",
   "metadata": {},
   "outputs": [],
   "source": [
    "from sklearn.ensemble import RandomForestRegressor\n",
    "\n",
    "rf_tree = RandomForestRegressor(random_state=0)\n",
    "rf_tree.fit(X_train_std,y_train)\n",
    "rf_tree_y_pred = rf_tree.predict(X_train_std)\n",
    "print(\"Accuracy: {}\".format(rf_tree.score(X_train_std,y_train)))\n",
    "print(\"R squared: {}\".format(r2_score(y_true=y_train,y_pred=rf_tree_y_pred)))"
   ]
  }
 ],
 "metadata": {
  "kernelspec": {
   "display_name": "Python 3 (ipykernel)",
   "language": "python",
   "name": "python3"
  },
  "language_info": {
   "codemirror_mode": {
    "name": "ipython",
    "version": 3
   },
   "file_extension": ".py",
   "mimetype": "text/x-python",
   "name": "python",
   "nbconvert_exporter": "python",
   "pygments_lexer": "ipython3",
   "version": "3.9.12"
  }
 },
 "nbformat": 4,
 "nbformat_minor": 5
}
